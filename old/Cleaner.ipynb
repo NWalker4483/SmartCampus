{
 "cells": [
  {
   "cell_type": "code",
   "execution_count": 2,
   "source": [
    "%matplotlib inline\n",
    "from matplotlib import pyplot as plt\n",
    "import numpy as np\n",
    "import cv2\n",
    "from utils import DeepSortMock, drawDetection, random_bbox\n",
    "import pickle"
   ],
   "outputs": [],
   "metadata": {}
  },
  {
   "cell_type": "code",
   "execution_count": 3,
   "source": [
    "class Identity():\n",
    "    def __init__(self, ID, memory_length = 45): # Frames):\n",
    "        self.ID = ID\n",
    "        self.age = 0\n",
    "        self.name = str(ID) \n",
    "        self.memory_length = memory_length\n",
    "        self.__reference_images = []\n",
    "    def push_image(self,frame):\n",
    "        self.__reference_images.append(frame)\n",
    "        self.__reference_images = self.__reference_images[-self.memory_length:]\n",
    "    def get_images(self):\n",
    "        return self.__reference_images\n",
    "    def get_latest_image(self):\n",
    "        return self.__reference_images[-1]"
   ],
   "outputs": [],
   "metadata": {}
  },
  {
   "cell_type": "code",
   "execution_count": 5,
   "source": [
    "data_files = [\"grandma_A\"]\n",
    "feeds = [cv2.VideoCapture(f\"raw_data/videos/{file}.mp4\") for file in data_files]\n",
    "detectors = [DeepSortMock(f\"raw_data/tracks/{file}.pb\") for file in data_files]\n",
    "# seperators = [SVC(kernel=\"poly\", probability = True) for _ in data_files]\n",
    "\n",
    "feed_identities = [dict() for _ in feeds] # TODO: Store in a queue instead\n",
    "\n",
    "# DEBUG \n",
    "output_frames = []\n",
    "clean_detections = []\n",
    "\n",
    "frames_left = True\n",
    "frame_num = 0 \n",
    "try:\n",
    "    while frames_left:\n",
    "     \n",
    "        clean_detections.append([])\n",
    "        frame_num += 1\n",
    "        output_frames = [ ]\n",
    "        for i, (feed, detector, identities) in enumerate(zip(feeds, detectors, feed_identities)):\n",
    "            updated_ids = set()\n",
    "            frames_left, frame = feed.read()\n",
    " \n",
    "            if not frames_left: break\n",
    "\n",
    "            people = detector.update(frame)\n",
    "            \n",
    "            # Grab Positive Person images to train seperators  \n",
    "            for person in people:\n",
    "                p1, p2, cat, ID = person\n",
    "                updated_ids.add(ID)  \n",
    "           \n",
    "                if ID in [6, 9]:\n",
    "                    ID = 0\n",
    "                if ID in [5, 7, 10, 11]:\n",
    "                    ID = 1\n",
    "\n",
    "                clean_detections[-1].append((p1, p2, cat, ID))\n",
    "                frame = drawDetection(frame, (p1, p2, cat, ID), info = frame_num)\n",
    "        \n",
    "            output_frames.append(frame) \n",
    "            \n",
    "        ##################################################\n",
    "        try:\n",
    "            cv2.imshow(\"Joined Product\",\n",
    "                np.concatenate(tuple(output_frame for output_frame in output_frames), axis = 1))\n",
    "            cv2.waitKey(1)\n",
    "        except :\n",
    "            pass\n",
    "        cv2.waitKey(1)\n",
    "                \n",
    "finally:\n",
    "    [cap.release() for cap in feeds]\n",
    "    out = open(b\"raw_data/tracks/grandma_A.cleaned.pbs\", \"wb\")\n",
    "    pickle.dump(clean_detections, out)\n",
    "    cv2.destroyAllWindows()"
   ],
   "outputs": [],
   "metadata": {}
  },
  {
   "cell_type": "code",
   "execution_count": null,
   "source": [],
   "outputs": [],
   "metadata": {}
  },
  {
   "cell_type": "code",
   "execution_count": null,
   "source": [],
   "outputs": [],
   "metadata": {}
  }
 ],
 "metadata": {
  "kernelspec": {
   "display_name": "Python 3 (ipykernel)",
   "language": "python",
   "name": "python3"
  },
  "language_info": {
   "codemirror_mode": {
    "name": "ipython",
    "version": 3
   },
   "file_extension": ".py",
   "mimetype": "text/x-python",
   "name": "python",
   "nbconvert_exporter": "python",
   "pygments_lexer": "ipython3",
   "version": "3.8.2"
  }
 },
 "nbformat": 4,
 "nbformat_minor": 5
}